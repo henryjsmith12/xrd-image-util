{
 "cells": [
  {
   "cell_type": "code",
   "execution_count": null,
   "metadata": {},
   "outputs": [],
   "source": []
  }
 ],
 "metadata": {
  "kernelspec": {
   "display_name": "xiu-env",
   "language": "python",
   "name": "python3"
  },
  "language_info": {
   "name": "python",
   "version": "3.10.8 (main, Nov 24 2022, 08:09:04) [Clang 14.0.6 ]"
  },
  "orig_nbformat": 4,
  "vscode": {
   "interpreter": {
    "hash": "680a8866b1bc9f72df8ed0842f71aa8a1362d502dfca2c1e0dcd9b0c36e2c3d8"
   }
  }
 },
 "nbformat": 4,
 "nbformat_minor": 2
}
