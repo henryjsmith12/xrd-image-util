{
 "cells": [
  {
   "attachments": {},
   "cell_type": "markdown",
   "metadata": {},
   "source": [
    "# `xrd-image-util` v0.2.0"
   ]
  },
  {
   "cell_type": "code",
   "execution_count": 1,
   "metadata": {},
   "outputs": [],
   "source": [
    "import xrdimageutil as xiu"
   ]
  },
  {
   "cell_type": "code",
   "execution_count": 2,
   "metadata": {},
   "outputs": [],
   "source": [
    "c = xiu.Catalog(name=\"test-catalog\")"
   ]
  },
  {
   "attachments": {},
   "cell_type": "markdown",
   "metadata": {},
   "source": [
    "## `Catalog`"
   ]
  },
  {
   "attachments": {},
   "cell_type": "markdown",
   "metadata": {},
   "source": [
    "### `Catalog` Class Variables:\n",
    "- `bluesky_catalog`: Bluesky dictionary-like catalog\n",
    "- `name`: Local name for catalog\n",
    "- `scan_uid_dict`: Dictionary of scans in catalog with UID as key\n",
    "- `scan_id_dict`: Dictionary of scans in catalog with scan ID as key"
   ]
  },
  {
   "attachments": {},
   "cell_type": "markdown",
   "metadata": {},
   "source": [
    "### `Catalog` Class Functions:\n",
    "- `list_scans()`: Lists metadata for all Scan objects in Catalog\n",
    "- `get_scan(scan_id: int)`: Returns Scan object with given scan ID (as opposed to the UID parameter in v0.1.0)\n",
    "- `get_scans(scan_id: int)`: Returns a list of Scan objects from a given list of scan ID's\n",
    "- `scan_count`(): Returns number of Scan objects in Catalog"
   ]
  },
  {
   "cell_type": "code",
   "execution_count": 3,
   "metadata": {},
   "outputs": [
    {
     "name": "stdout",
     "output_type": "stream",
     "text": [
      "+---------+-----------------+-------------+------------+-------+--------+-------------+-------+\n",
      "| scan_id |      motors     | motor_start | motor_stop | n_pts | sample | proposal_id |  user |\n",
      "+---------+-----------------+-------------+------------+-------+--------+-------------+-------+\n",
      "|    53   |  ['fourc_tth']  |     None    |    None    |   0   | erte3  |    262325   | singh |\n",
      "|    54   |  ['fourc_tth']  |  [60.85025] | [61.05025] |   30  | erte3  |    262325   | singh |\n",
      "|    55   |  ['fourc_tth']  |  [60.85025] | [61.05025] |   30  | erte3  |    262325   | singh |\n",
      "|    56   |  ['fourc_tth']  |  [60.85025] | [60.97438] |   19  | erte3  |    262325   | singh |\n",
      "|    57   |  ['fourc_tth']  |  [60.85025] | [61.00188] |   23  | erte3  |    262325   | singh |\n",
      "|    58   |  ['fourc_tth']  |  [60.85025] | [61.05025] |   30  | erte3  |    262325   | singh |\n",
      "|    59   |  ['fourc_tth']  |  [60.95025] | [61.15025] |   30  | erte3  |    262325   | singh |\n",
      "|    60   |  ['fourc_tth']  |  [60.85025] | [61.05025] |   30  | erte3  |    262325   | singh |\n",
      "|    61   |  ['fourc_tth']  |  [80.7215]  | [80.9215]  |   30  | erte3  |    262325   | singh |\n",
      "|    62   |  ['fourc_tth']  |  [80.7215]  | [80.9215]  |   30  | erte3  |    262325   | singh |\n",
      "|    63   |  ['fourc_tth']  |  [80.7215]  | [80.9215]  |   30  | erte3  |    262325   | singh |\n",
      "|    64   |  ['fourc_tth']  |  [80.7215]  | [80.9215]  |   30  | erte3  |    262325   | singh |\n",
      "|    65   |  ['fourc_tth']  |  [80.7215]  | [80.9215]  |   30  | erte3  |    262325   | singh |\n",
      "|    66   |  ['fourc_tth']  |  [80.7215]  | [80.9215]  |   30  | erte3  |    262325   | singh |\n",
      "|    67   |   ['fourc_h']   |  [0.22418]  | [0.42418]  |   40  | erte3  |    262325   | singh |\n",
      "|    68   | ['fourc_omega'] |  [40.01078] | [40.81078] |   40  | erte3  |    262325   | singh |\n",
      "|    69   | ['fourc_omega'] |  [39.41078] | [41.41078] |   50  | erte3  |    262325   | singh |\n",
      "|    70   | ['fourc_omega'] |  [39.41078] | [41.41078] |   50  | erte3  |    262325   | singh |\n",
      "|    71   |   ['fourc_h']   |  [0.22418]  | [0.42418]  |   40  | erte3  |    262325   | singh |\n",
      "+---------+-----------------+-------------+------------+-------+--------+-------------+-------+\n"
     ]
    }
   ],
   "source": [
    "c.list_scans()"
   ]
  },
  {
   "cell_type": "code",
   "execution_count": 5,
   "metadata": {},
   "outputs": [
    {
     "data": {
      "text/plain": [
       "<xrdimageutil.Scan at 0x7fcf9d3a05e0>"
      ]
     },
     "execution_count": 5,
     "metadata": {},
     "output_type": "execute_result"
    }
   ],
   "source": [
    "scan_61 = c.get_scan(scan_id=61)\n",
    "scan_61"
   ]
  },
  {
   "cell_type": "code",
   "execution_count": 11,
   "metadata": {},
   "outputs": [
    {
     "data": {
      "text/plain": [
       "[<xrdimageutil.Scan at 0x7fcf9d3a05e0>,\n",
       " <xrdimageutil.Scan at 0x7fcf6c6ea1d0>,\n",
       " <xrdimageutil.Scan at 0x7fcf6c6e94b0>,\n",
       " <xrdimageutil.Scan at 0x7fcf6c5d46d0>,\n",
       " <xrdimageutil.Scan at 0x7fcfa307a920>,\n",
       " <xrdimageutil.Scan at 0x7fcfa316a8c0>]"
      ]
     },
     "execution_count": 11,
     "metadata": {},
     "output_type": "execute_result"
    }
   ],
   "source": [
    "scans_61_to_66 = c.get_scans(scan_ids=[61, 62, 63, 64, 65, 66])\n",
    "scans_61_to_66"
   ]
  },
  {
   "cell_type": "code",
   "execution_count": 12,
   "metadata": {},
   "outputs": [
    {
     "data": {
      "text/plain": [
       "19"
      ]
     },
     "execution_count": 12,
     "metadata": {},
     "output_type": "execute_result"
    }
   ],
   "source": [
    "c.scan_count()"
   ]
  },
  {
   "attachments": {},
   "cell_type": "markdown",
   "metadata": {},
   "source": [
    "## `Scan`"
   ]
  },
  {
   "attachments": {},
   "cell_type": "markdown",
   "metadata": {},
   "source": [
    "### `Scan` Class Variables:\n",
    "- `catalog`: Parent Catalog\n",
    "- `uid`: UID for scan; given by bluesky\n",
    "- `bluesky_run`: Raw Bluesky run for scan\n",
    "- `scan_id`: Simple ID given to scan by user -- not always unique\n",
    "- `sample`: Experimental sample\n",
    "- `proposal_id`: Manually provided Proposal ID\n",
    "- `user`: Experimental user\n",
    "- `motors`: List of variable motors for scan\n",
    "- `motor_bounds`: The starting and ending values for each variable motor\n",
    "- `rsm`: Reciprocal space map for every point within a scan\n",
    "- `rsm_bounds`: Min/max HKL values for RSM\n",
    "- `raw_data`: 3D numpy array of scan data\n",
    "- `gridded_data`: Interpolated and transformed scan data\n",
    "- `gridded_data_coords`: HKL coordinates for gridded data"
   ]
  },
  {
   "attachments": {},
   "cell_type": "markdown",
   "metadata": {},
   "source": [
    "### `Scan` Class Functions:\n",
    "- `grid_data()`: Creates a gridded, interpolated, and transformed 3D image of Scan data\n",
    "- `point_count()`: Returns number of points in Scan"
   ]
  },
  {
   "cell_type": "code",
   "execution_count": 13,
   "metadata": {},
   "outputs": [
    {
     "data": {
      "text/plain": [
       "30"
      ]
     },
     "execution_count": 13,
     "metadata": {},
     "output_type": "execute_result"
    }
   ],
   "source": [
    "scan_61.point_count()"
   ]
  },
  {
   "cell_type": "code",
   "execution_count": 16,
   "metadata": {},
   "outputs": [
    {
     "data": {
      "text/plain": [
       "(100, 100, 100)"
      ]
     },
     "execution_count": 16,
     "metadata": {},
     "output_type": "execute_result"
    }
   ],
   "source": [
    "scan_61.grid_data(h_count=100, k_count=100, l_count=100)\n",
    "scan_61.gridded_data.shape"
   ]
  }
 ],
 "metadata": {
  "kernelspec": {
   "display_name": "xiu-env",
   "language": "python",
   "name": "python3"
  },
  "language_info": {
   "codemirror_mode": {
    "name": "ipython",
    "version": 3
   },
   "file_extension": ".py",
   "mimetype": "text/x-python",
   "name": "python",
   "nbconvert_exporter": "python",
   "pygments_lexer": "ipython3",
   "version": "3.10.8"
  },
  "orig_nbformat": 4,
  "vscode": {
   "interpreter": {
    "hash": "680a8866b1bc9f72df8ed0842f71aa8a1362d502dfca2c1e0dcd9b0c36e2c3d8"
   }
  }
 },
 "nbformat": 4,
 "nbformat_minor": 2
}
