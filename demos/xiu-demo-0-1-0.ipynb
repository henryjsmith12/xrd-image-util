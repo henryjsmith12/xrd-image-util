{
 "cells": [
  {
   "attachments": {},
   "cell_type": "markdown",
   "metadata": {},
   "source": [
    "# `xrd-image-util` v0.1.0"
   ]
  },
  {
   "attachments": {},
   "cell_type": "markdown",
   "metadata": {},
   "source": [
    "NOTE: Some of the functions in this demo have been deprecated. See the most up-to-date demo for current functions."
   ]
  },
  {
   "attachments": {},
   "cell_type": "markdown",
   "metadata": {},
   "source": [
    "### Prerequisites\n",
    "\n",
    "Ensure that your Bluesky catalog has been unpacked properly before use. For the sample data, this is accomplished with the following shell command:\n",
    "\n",
    "```databroker-unpack inplace data/singh test-catalog```"
   ]
  },
  {
   "cell_type": "code",
   "execution_count": 1,
   "metadata": {},
   "outputs": [],
   "source": [
    "import xrdimageutil as xiu"
   ]
  },
  {
   "attachments": {},
   "cell_type": "markdown",
   "metadata": {},
   "source": [
    "### `Catalog` Class"
   ]
  },
  {
   "cell_type": "code",
   "execution_count": 12,
   "metadata": {},
   "outputs": [],
   "source": [
    "# Catalog instantiation\n",
    "catalog = xiu.Catalog(name=\"test-catalog\")"
   ]
  },
  {
   "attachments": {},
   "cell_type": "markdown",
   "metadata": {},
   "source": [
    "#### Attributes"
   ]
  },
  {
   "cell_type": "code",
   "execution_count": 15,
   "metadata": {},
   "outputs": [
    {
     "name": "stdout",
     "output_type": "stream",
     "text": [
      "Name: test-catalog\n",
      "\n",
      "Scan dictionary: {'24b38861-2de0-4a24-b30b-2daa599f5ce8': <xrdimageutil.Scan object at 0x7fb1ada3d090>, '326a9ccb-e08d-4c67-aa70-ac4ccad16be6': <xrdimageutil.Scan object at 0x7fb1af5f1c90>, '4562628b-5230-4592-8f70-b8613e4cb16d': <xrdimageutil.Scan object at 0x7fb1af5f00a0>, '5478d3eb-dd57-4f2a-9b1e-0e3c8f8958fe': <xrdimageutil.Scan object at 0x7fb1af924970>, '59077635-d5da-4f39-96b3-ed835cabbfe1': <xrdimageutil.Scan object at 0x7fb1af926860>, '69df8003-a6b7-4809-82d6-772e167b3e7c': <xrdimageutil.Scan object at 0x7fb1afa846d0>, '738447d4-1b3a-4ebc-9e08-63981c251eff': <xrdimageutil.Scan object at 0x7fb1afa868f0>, '7467ec5d-23c8-4807-9886-e29426eeba6f': <xrdimageutil.Scan object at 0x7fb1afc105b0>, '74b77083-3c8a-4b7b-b311-53039e71c14b': <xrdimageutil.Scan object at 0x7fb1afc11c60>, '765b60a4-106b-4975-907e-50d3612d24b3': <xrdimageutil.Scan object at 0x7fb1afd60190>, '83f2cd24-3e57-4371-be40-790330160e86': <xrdimageutil.Scan object at 0x7fb1afd62c20>, '891ec5a0-dac8-441e-958b-b33be41bd9ec': <xrdimageutil.Scan object at 0x7fb1afd63970>, 'a7a5a018-7f74-4153-bd4b-ad0dcf0c89a8': <xrdimageutil.Scan object at 0x7fb1afed6800>, 'c2877889-b875-43b4-9598-5ac05a94b5e2': <xrdimageutil.Scan object at 0x7fb1afed7ee0>, 'd55ce07c-3375-481a-a181-5de73756d337': <xrdimageutil.Scan object at 0x7fb1b073a7a0>, 'd5c2484c-9280-40cc-99f8-7a56f602df1e': <xrdimageutil.Scan object at 0x7fb1b073b7f0>, 'e44325fc-5747-4208-afbc-25d93e964d58': <xrdimageutil.Scan object at 0x7fb1aee51930>, 'f7db5f42-4f85-4d2d-ba28-c89cd6291a34': <xrdimageutil.Scan object at 0x7fb1aee53580>, 'ff7f3595-6992-4318-81f7-1d3c47bd8b3d': <xrdimageutil.Scan object at 0x7fb1af8497e0>}\n",
      "\n",
      "Bluesky catalog: <Intake catalog: test-catalog>\n"
     ]
    }
   ],
   "source": [
    "nm = catalog.name # Local name\n",
    "scans = catalog.scans # Dictionary of Scan objects\n",
    "bs_c = catalog.bs_catalog # Raw Bluesky catalog\n",
    "\n",
    "print(f\"Name: {nm}\\n\")\n",
    "print(f\"Scan dictionary: {scans}\\n\")\n",
    "print(f\"Bluesky catalog: {bs_c}\")"
   ]
  },
  {
   "attachments": {},
   "cell_type": "markdown",
   "metadata": {},
   "source": [
    "#### Functions"
   ]
  },
  {
   "cell_type": "code",
   "execution_count": 16,
   "metadata": {},
   "outputs": [
    {
     "data": {
      "text/plain": [
       "19"
      ]
     },
     "execution_count": 16,
     "metadata": {},
     "output_type": "execute_result"
    }
   ],
   "source": [
    "# Number of scans in catalog\n",
    "catalog.scan_count()"
   ]
  },
  {
   "cell_type": "code",
   "execution_count": 17,
   "metadata": {},
   "outputs": [
    {
     "data": {
      "text/plain": [
       "['24b38861-2de0-4a24-b30b-2daa599f5ce8',\n",
       " '326a9ccb-e08d-4c67-aa70-ac4ccad16be6',\n",
       " '4562628b-5230-4592-8f70-b8613e4cb16d',\n",
       " '5478d3eb-dd57-4f2a-9b1e-0e3c8f8958fe',\n",
       " '59077635-d5da-4f39-96b3-ed835cabbfe1',\n",
       " '69df8003-a6b7-4809-82d6-772e167b3e7c',\n",
       " '738447d4-1b3a-4ebc-9e08-63981c251eff',\n",
       " '7467ec5d-23c8-4807-9886-e29426eeba6f',\n",
       " '74b77083-3c8a-4b7b-b311-53039e71c14b',\n",
       " '765b60a4-106b-4975-907e-50d3612d24b3',\n",
       " '83f2cd24-3e57-4371-be40-790330160e86',\n",
       " '891ec5a0-dac8-441e-958b-b33be41bd9ec',\n",
       " 'a7a5a018-7f74-4153-bd4b-ad0dcf0c89a8',\n",
       " 'c2877889-b875-43b4-9598-5ac05a94b5e2',\n",
       " 'd55ce07c-3375-481a-a181-5de73756d337',\n",
       " 'd5c2484c-9280-40cc-99f8-7a56f602df1e',\n",
       " 'e44325fc-5747-4208-afbc-25d93e964d58',\n",
       " 'f7db5f42-4f85-4d2d-ba28-c89cd6291a34',\n",
       " 'ff7f3595-6992-4318-81f7-1d3c47bd8b3d']"
      ]
     },
     "execution_count": 17,
     "metadata": {},
     "output_type": "execute_result"
    }
   ],
   "source": [
    "# List of scan ID's\n",
    "catalog.list_scans()"
   ]
  },
  {
   "cell_type": "code",
   "execution_count": 18,
   "metadata": {},
   "outputs": [
    {
     "data": {
      "text/plain": [
       "<xrdimageutil.Scan at 0x7fb1af924970>"
      ]
     },
     "execution_count": 18,
     "metadata": {},
     "output_type": "execute_result"
    }
   ],
   "source": [
    "# Retrieiving a Scan object\n",
    "scan_id = catalog.list_scans()[3]\n",
    "scan_3 = catalog.get_scan(scan_id=scan_id)\n",
    "scan_3"
   ]
  },
  {
   "cell_type": "code",
   "execution_count": 19,
   "metadata": {},
   "outputs": [
    {
     "data": {
      "text/plain": [
       "['erte3']"
      ]
     },
     "execution_count": 19,
     "metadata": {},
     "output_type": "execute_result"
    }
   ],
   "source": [
    "# List all samples in catalog\n",
    "catalog.list_samples()"
   ]
  },
  {
   "cell_type": "code",
   "execution_count": 20,
   "metadata": {},
   "outputs": [
    {
     "data": {
      "text/plain": [
       "['262325']"
      ]
     },
     "execution_count": 20,
     "metadata": {},
     "output_type": "execute_result"
    }
   ],
   "source": [
    "# List all proposal ID's in catalog\n",
    "catalog.list_proposal_ids()"
   ]
  },
  {
   "cell_type": "code",
   "execution_count": 21,
   "metadata": {},
   "outputs": [
    {
     "data": {
      "text/plain": [
       "['singh']"
      ]
     },
     "execution_count": 21,
     "metadata": {},
     "output_type": "execute_result"
    }
   ],
   "source": [
    "# List all users in catalog\n",
    "catalog.list_users()"
   ]
  },
  {
   "attachments": {},
   "cell_type": "markdown",
   "metadata": {},
   "source": [
    "There are also filtering functions that allow users to filter the list of scans by a specific sample, proposal ID, or user."
   ]
  },
  {
   "cell_type": "code",
   "execution_count": 23,
   "metadata": {},
   "outputs": [
    {
     "data": {
      "text/plain": [
       "['24b38861-2de0-4a24-b30b-2daa599f5ce8',\n",
       " '326a9ccb-e08d-4c67-aa70-ac4ccad16be6',\n",
       " '4562628b-5230-4592-8f70-b8613e4cb16d',\n",
       " '5478d3eb-dd57-4f2a-9b1e-0e3c8f8958fe',\n",
       " '59077635-d5da-4f39-96b3-ed835cabbfe1',\n",
       " '69df8003-a6b7-4809-82d6-772e167b3e7c',\n",
       " '738447d4-1b3a-4ebc-9e08-63981c251eff',\n",
       " '7467ec5d-23c8-4807-9886-e29426eeba6f',\n",
       " '74b77083-3c8a-4b7b-b311-53039e71c14b',\n",
       " '765b60a4-106b-4975-907e-50d3612d24b3',\n",
       " '83f2cd24-3e57-4371-be40-790330160e86',\n",
       " '891ec5a0-dac8-441e-958b-b33be41bd9ec',\n",
       " 'a7a5a018-7f74-4153-bd4b-ad0dcf0c89a8',\n",
       " 'c2877889-b875-43b4-9598-5ac05a94b5e2',\n",
       " 'd55ce07c-3375-481a-a181-5de73756d337',\n",
       " 'd5c2484c-9280-40cc-99f8-7a56f602df1e',\n",
       " 'e44325fc-5747-4208-afbc-25d93e964d58',\n",
       " 'f7db5f42-4f85-4d2d-ba28-c89cd6291a34',\n",
       " 'ff7f3595-6992-4318-81f7-1d3c47bd8b3d']"
      ]
     },
     "execution_count": 23,
     "metadata": {},
     "output_type": "execute_result"
    }
   ],
   "source": [
    "catalog.filter_scans_by_sample(sample=\"erte3\")\n",
    "catalog.filter_scans_by_proposal_id(proposal_id=\"262325\")\n",
    "catalog.filter_scans_by_user(user=\"singh\")"
   ]
  },
  {
   "attachments": {},
   "cell_type": "markdown",
   "metadata": {},
   "source": [
    "### `Scan` Class"
   ]
  },
  {
   "attachments": {},
   "cell_type": "markdown",
   "metadata": {},
   "source": [
    "#### Attributes"
   ]
  },
  {
   "cell_type": "code",
   "execution_count": 24,
   "metadata": {},
   "outputs": [],
   "source": [
    "bs_r = scan_3.bs_run # Raw Bluesky run\n",
    "cat = scan_3.catalog # Parent catalog\n",
    "uid = scan_3.id # Unique identifier for scan\n",
    "prop_id = scan_3.proposal_id\n",
    "samp = scan_3.sample\n",
    "usr = scan_3.user"
   ]
  }
 ],
 "metadata": {
  "kernelspec": {
   "display_name": "xiu-env",
   "language": "python",
   "name": "python3"
  },
  "language_info": {
   "codemirror_mode": {
    "name": "ipython",
    "version": 3
   },
   "file_extension": ".py",
   "mimetype": "text/x-python",
   "name": "python",
   "nbconvert_exporter": "python",
   "pygments_lexer": "ipython3",
   "version": "3.10.8 (main, Nov 24 2022, 08:09:04) [Clang 14.0.6 ]"
  },
  "orig_nbformat": 4,
  "vscode": {
   "interpreter": {
    "hash": "680a8866b1bc9f72df8ed0842f71aa8a1362d502dfca2c1e0dcd9b0c36e2c3d8"
   }
  }
 },
 "nbformat": 4,
 "nbformat_minor": 2
}
